{
  "nbformat": 4,
  "nbformat_minor": 0,
  "metadata": {
    "colab": {
      "provenance": [],
      "authorship_tag": "ABX9TyNDU0h97UmEhIoif0jtoMsb",
      "include_colab_link": true
    },
    "kernelspec": {
      "name": "python3",
      "display_name": "Python 3"
    },
    "language_info": {
      "name": "python"
    }
  },
  "cells": [
    {
      "cell_type": "markdown",
      "metadata": {
        "id": "view-in-github",
        "colab_type": "text"
      },
      "source": [
        "<a href=\"https://colab.research.google.com/github/PrathameshBawane/Cloud-Counselage-Internship-projects/blob/main/Internship_project_Basic_Level.ipynb\" target=\"_parent\"><img src=\"https://colab.research.google.com/assets/colab-badge.svg\" alt=\"Open In Colab\"/></a>"
      ]
    },
    {
      "cell_type": "code",
      "source": [
        "#Problem Statement 1: Prediction of Placement status data\n",
        "\n",
        "import os\n",
        "import pandas as pd\n",
        "import numpy as np\n",
        "from sklearn.model_selection import train_test_split\n",
        "from sklearn.preprocessing import LabelEncoder, StandardScaler\n",
        "from sklearn.ensemble import RandomForestClassifier\n",
        "from sklearn.metrics import accuracy_score, classification_report\n",
        "\n",
        "train_df = pd.read_excel(\"/content/01 Train Data.xlsx\")\n",
        "test_df = pd.read_excel(\"/content/02 Test Data.xlsx\")\n",
        "\n",
        "train_df.fillna(method='ffill', inplace=True)\n",
        "test_df.fillna(method='ffill', inplace=True)\n",
        "\n",
        "\n",
        "label_encoders = {}\n",
        "for column in train_df.select_dtypes(include=['object']).columns:\n",
        "    le = LabelEncoder()\n",
        "    combined_values = pd.concat([train_df[column], test_df[column]], axis=0).unique()\n",
        "    combined_values = combined_values.astype(str)\n",
        "    le.fit(combined_values)\n",
        "    train_df[column] = le.transform(train_df[column].astype(str))\n",
        "    test_df[column] = le.transform(test_df[column].astype(str))\n",
        "    label_encoders[column] = le\n",
        "\n",
        "\n",
        "X = train_df.drop(columns=['Placement Status'])\n",
        "y = train_df['Placement Status']\n",
        "\n",
        "\n",
        "X_train, X_val, y_train, y_val = train_test_split(X, y, test_size=0.2, random_state=42)\n",
        "\n",
        "\n",
        "scaler = StandardScaler()\n",
        "X_train = scaler.fit_transform(X_train)\n",
        "X_val = scaler.transform(X_val)\n",
        "\n",
        "\n",
        "test_data = scaler.transform(test_df.drop(columns=['Placement Status']))\n",
        "\n",
        "# Training the model\n",
        "model = RandomForestClassifier(n_estimators=100, random_state=42)\n",
        "model.fit(X_train, y_train)\n",
        "\n",
        "\n",
        "y_pred = model.predict(X_val)\n",
        "accuracy = accuracy_score(y_val, y_pred)\n",
        "print(\"Validation Accuracy:\", accuracy)\n",
        "print(classification_report(y_val, y_pred))\n",
        "\n",
        "# Predicting on test data\n",
        "test_predictions = model.predict(test_data)\n",
        "test_df['Placement_Prediction'] = test_predictions\n",
        "\n",
        "# Check if the directory exists and create it if it doesn't\n",
        "output_dir = \"/content\" # Changed to /content directory\n",
        "if not os.path.exists(output_dir):\n",
        "    os.makedirs(output_dir)\n",
        "\n",
        "# Save predictions\n",
        "test_df.to_excel(f\"{output_dir}/Predicted_Placement.xlsx\", index=False)\n",
        "print(\"Predictions saved successfully!\")"
      ],
      "metadata": {
        "colab": {
          "base_uri": "https://localhost:8080/"
        },
        "id": "m7JItPw45oIy",
        "outputId": "204b3103-b6a1-45e2-b072-00d5d6ca8665"
      },
      "execution_count": 58,
      "outputs": [
        {
          "output_type": "stream",
          "name": "stderr",
          "text": [
            "<ipython-input-58-8c35b737b354>:14: FutureWarning: DataFrame.fillna with 'method' is deprecated and will raise in a future version. Use obj.ffill() or obj.bfill() instead.\n",
            "  train_df.fillna(method='ffill', inplace=True)\n",
            "<ipython-input-58-8c35b737b354>:15: FutureWarning: DataFrame.fillna with 'method' is deprecated and will raise in a future version. Use obj.ffill() or obj.bfill() instead.\n",
            "  test_df.fillna(method='ffill', inplace=True)\n",
            "/usr/local/lib/python3.11/dist-packages/sklearn/utils/extmath.py:1101: RuntimeWarning: invalid value encountered in divide\n",
            "  updated_mean = (last_sum + new_sum) / updated_sample_count\n",
            "/usr/local/lib/python3.11/dist-packages/sklearn/utils/extmath.py:1106: RuntimeWarning: invalid value encountered in divide\n",
            "  T = new_sum / new_sample_count\n",
            "/usr/local/lib/python3.11/dist-packages/sklearn/utils/extmath.py:1126: RuntimeWarning: invalid value encountered in divide\n",
            "  new_unnormalized_variance -= correction**2 / new_sample_count\n"
          ]
        },
        {
          "output_type": "stream",
          "name": "stdout",
          "text": [
            "Validation Accuracy: 0.9050051072522982\n",
            "              precision    recall  f1-score   support\n",
            "\n",
            "           0       0.92      0.99      0.95       893\n",
            "           1       0.29      0.06      0.10        86\n",
            "\n",
            "    accuracy                           0.91       979\n",
            "   macro avg       0.60      0.52      0.52       979\n",
            "weighted avg       0.86      0.91      0.87       979\n",
            "\n",
            "Predictions saved successfully!\n"
          ]
        }
      ]
    },
    {
      "cell_type": "code",
      "source": [
        "#Problem Statement 2: Calculation for Year of graduation data\n",
        "#There is only 1 file 'Final Lead Data'\n",
        "\n",
        "import pandas as pd\n",
        "\n",
        "# Load the dataset\n",
        "file_path = \"/content/Final Lead Data.xlsx\"\n",
        "df = pd.read_excel(file_path)\n",
        "\n",
        "# Display first few rows to understand structure\n",
        "print(df.head())"
      ],
      "metadata": {
        "colab": {
          "base_uri": "https://localhost:8080/"
        },
        "id": "uRRp182K5otD",
        "outputId": "d1ab673b-e4c4-4537-eb5d-70e1dc04f3a7"
      },
      "execution_count": 62,
      "outputs": [
        {
          "output_type": "stream",
          "name": "stdout",
          "text": [
            "      ID First Name              Email Gender City                 Created  \\\n",
            "0  68112     ANIKET     aniket@xyz.com    NaN  NaN  04/27/2022 01:41:38 pm   \n",
            "1  68110  Dhanshree  dhanshree@xyz.com    NaN  NaN  04/22/2022 04:08:38 pm   \n",
            "2  68108     Dhiraj     dhiraj@xyz.com    NaN  NaN  04/16/2022 10:31:59 pm   \n",
            "3  68106      Pooja      pooja@xyz.com    NaN  NaN  04/13/2022 10:05:15 pm   \n",
            "4  68090     Aayush     aayush@xyz.com    NaN  NaN  03/26/2022 07:02:48 pm   \n",
            "\n",
            "  Position         New College Name Colleges  Academic Year  \\\n",
            "0      NaN                      NaN      NaN            NaN   \n",
            "1      NaN  Lords Universal College      NaN            NaN   \n",
            "2      NaN                      NaN      NaN            NaN   \n",
            "3      NaN                      NaN      NaN            NaN   \n",
            "4      NaN        B.k Birla college      NaN            NaN   \n",
            "\n",
            "  Branch/ Specialisation Other Branch What is your current academic year?  \\\n",
            "0                    NaN          NaN                                 NaN   \n",
            "1                    NaN          NaN                                 NaN   \n",
            "2                    NaN          NaN                                 NaN   \n",
            "3                    NaN          NaN                                 NaN   \n",
            "4                    NaN          NaN                                 NaN   \n",
            "\n",
            "  Company Name/ College Name  \\\n",
            "0                        NaN   \n",
            "1                        NaN   \n",
            "2                        NaN   \n",
            "3                        NaN   \n",
            "4                        NaN   \n",
            "\n",
            "  Would you like to know more about us and our programs?  \\\n",
            "0                                                yes       \n",
            "1                                                yes       \n",
            "2                                                yes       \n",
            "3                                                yes       \n",
            "4                                                yes       \n",
            "\n",
            "  Are you interested in knowing more about our events?  \\\n",
            "0                                                yes     \n",
            "1                                                yes     \n",
            "2                                                yes     \n",
            "3                                                yes     \n",
            "4                                                yes     \n",
            "\n",
            "  Have you recommended Cloud Counselage to anyone?  \\\n",
            "0                                               no   \n",
            "1                                               no   \n",
            "2                                               no   \n",
            "3                                               no   \n",
            "4                                               no   \n",
            "\n",
            "  How did you come to know about this event?  \n",
            "0                                        NaN  \n",
            "1                                        NaN  \n",
            "2                                        NaN  \n",
            "3                                        NaN  \n",
            "4                                        NaN  \n"
          ]
        }
      ]
    },
    {
      "cell_type": "code",
      "source": [
        "# Assuming dataset has columns like 'Admission Year', 'Course Duration', and 'Year of Graduation'\n",
        "if 'Year of Graduation' not in df.columns:\n",
        "    # If Year of Graduation is missing, calculate it using Admission Year + Course Duration\n",
        "    if 'Admission Year' in df.columns and 'Course Duration' in df.columns:\n",
        "        df['Year of Graduation'] = df['Admission Year'] + df['Course Duration']\n",
        "    else:\n",
        "        print(\"Required columns missing. Please check dataset structure.\")\n",
        "\n",
        "# Save the processed file\n",
        "output_path = \"/mnt/data/Processed_Graduation_Data.xlsx\"\n",
        "df.to_excel(output_path, index=False)\n",
        "print(f\"Processed file saved as {output_path}\")"
      ],
      "metadata": {
        "colab": {
          "base_uri": "https://localhost:8080/"
        },
        "id": "LZVnKust-WYi",
        "outputId": "c8bd5a31-3180-4e42-a1e8-223bb9462820"
      },
      "execution_count": 63,
      "outputs": [
        {
          "output_type": "stream",
          "name": "stdout",
          "text": [
            "Required columns missing. Please check dataset structure.\n",
            "Processed file saved as /mnt/data/Processed_Graduation_Data.xlsx\n"
          ]
        }
      ]
    },
    {
      "cell_type": "code",
      "source": [
        "from google.colab import files\n",
        "files.download(\"/mnt/data/Processed_Graduation_Data.xlsx\")"
      ],
      "metadata": {
        "colab": {
          "base_uri": "https://localhost:8080/",
          "height": 17
        },
        "id": "uQNvhdyg7rE4",
        "outputId": "0dec8ef2-ac84-4785-8252-ce6730142337"
      },
      "execution_count": 64,
      "outputs": [
        {
          "output_type": "display_data",
          "data": {
            "text/plain": [
              "<IPython.core.display.Javascript object>"
            ],
            "application/javascript": [
              "\n",
              "    async function download(id, filename, size) {\n",
              "      if (!google.colab.kernel.accessAllowed) {\n",
              "        return;\n",
              "      }\n",
              "      const div = document.createElement('div');\n",
              "      const label = document.createElement('label');\n",
              "      label.textContent = `Downloading \"${filename}\": `;\n",
              "      div.appendChild(label);\n",
              "      const progress = document.createElement('progress');\n",
              "      progress.max = size;\n",
              "      div.appendChild(progress);\n",
              "      document.body.appendChild(div);\n",
              "\n",
              "      const buffers = [];\n",
              "      let downloaded = 0;\n",
              "\n",
              "      const channel = await google.colab.kernel.comms.open(id);\n",
              "      // Send a message to notify the kernel that we're ready.\n",
              "      channel.send({})\n",
              "\n",
              "      for await (const message of channel.messages) {\n",
              "        // Send a message to notify the kernel that we're ready.\n",
              "        channel.send({})\n",
              "        if (message.buffers) {\n",
              "          for (const buffer of message.buffers) {\n",
              "            buffers.push(buffer);\n",
              "            downloaded += buffer.byteLength;\n",
              "            progress.value = downloaded;\n",
              "          }\n",
              "        }\n",
              "      }\n",
              "      const blob = new Blob(buffers, {type: 'application/binary'});\n",
              "      const a = document.createElement('a');\n",
              "      a.href = window.URL.createObjectURL(blob);\n",
              "      a.download = filename;\n",
              "      div.appendChild(a);\n",
              "      a.click();\n",
              "      div.remove();\n",
              "    }\n",
              "  "
            ]
          },
          "metadata": {}
        },
        {
          "output_type": "display_data",
          "data": {
            "text/plain": [
              "<IPython.core.display.Javascript object>"
            ],
            "application/javascript": [
              "download(\"download_f9a0dac9-0aa3-40ca-a99d-a201fc28ba6b\", \"Processed_Graduation_Data.xlsx\", 448163)"
            ]
          },
          "metadata": {}
        }
      ]
    }
  ]
}